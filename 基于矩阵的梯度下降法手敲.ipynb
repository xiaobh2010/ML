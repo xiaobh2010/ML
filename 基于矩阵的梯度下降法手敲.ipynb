{
 "cells": [
  {
   "cell_type": "code",
   "execution_count": 3,
   "metadata": {},
   "outputs": [],
   "source": [
    "import numpy as np\n"
   ]
  },
  {
   "cell_type": "code",
   "execution_count": 6,
   "metadata": {},
   "outputs": [
    {
     "name": "stdout",
     "output_type": "stream",
     "text": [
      "损失函数\n",
      " [[14.]]\n",
      "[[0.]\n",
      " [0.]\n",
      " [0.]]\n"
     ]
    }
   ],
   "source": [
    "x=np.array([[1,2,3],[2.4,4.5,3.1],[3.9,5.1,4.9]])\n",
    "y=np.array([[1],[2],[3]])\n",
    "alpha=0.1\n",
    "theta=np.zeros(3).reshape(-1,1)\n",
    "theta\n",
    "print('损失函数\\n',(y-x.dot(theta)).T.dot(y-x.dot(theta)))\n",
    "print(theta)"
   ]
  },
  {
   "cell_type": "code",
   "execution_count": 8,
   "metadata": {},
   "outputs": [
    {
     "name": "stdout",
     "output_type": "stream",
     "text": [
      "[[1.  2.  3. ]\n",
      " [2.4 4.5 3.1]\n",
      " [3.9 5.1 4.9]]\n",
      "[[1]\n",
      " [2]\n",
      " [3]]\n",
      "xshape (3, 3)\n",
      "[[1.]\n",
      " [2.]\n",
      " [3.]]\n",
      "[[1. 2. 3.]]\n",
      "[[0.]\n",
      " [0.]\n",
      " [0.]]\n",
      "[[0.]]\n",
      "损失函数\n",
      " [[0.1793]]\n"
     ]
    }
   ],
   "source": [
    "#sgd\n",
    "np.random.seed(10)\n",
    "#洗牌一样的感觉\n",
    "np.random.shuffle(x)\n",
    "np.random.shuffle(y)\n",
    "print(x)\n",
    "print(y)\n",
    "for j in range(100):\n",
    "    print('xshape',x.shape)\n",
    "    for i in range(x.shape[0]):\n",
    "        x_sample=x[i].reshape(-1,1)\n",
    "        print(x_sample)\n",
    "        print(x_sample.T)\n",
    "        print(theta)\n",
    "        print(x_sample.T.dot(theta))\n",
    "        y_sample=y[i]\n",
    "        y_yhat=y_sample-x_sample.T.dot(theta)\n",
    "        theta=theta+(alpha*y_yhat*x_sample)\n",
    "        break\n",
    "    break\n",
    "print('损失函数\\n',(y-x.dot(theta)).T.dot(y-x.dot(theta)))\n",
    "\n",
    "\n"
   ]
  },
  {
   "cell_type": "code",
   "execution_count": 9,
   "metadata": {},
   "outputs": [],
   "source": [
    "def xiajiang(x,y,theta,num_iter=10,alpha=0.001):\n",
    "    for i in range(num_iter):\n",
    "        theta=theta+x.T.dot(y-x.dot(theta))*alpha\n",
    "        loss=(y-x.dot(theta)).T.dot(y-x.dot(theta))\n",
    "        print(theta)\n",
    "        print(loss)"
   ]
  },
  {
   "cell_type": "code",
   "execution_count": 11,
   "metadata": {},
   "outputs": [
    {
     "name": "stdout",
     "output_type": "stream",
     "text": [
      "[[0.00099605]]\n"
     ]
    },
    {
     "data": {
      "text/plain": [
       "array([[1.01875159],\n",
       "       [2.02822242],\n",
       "       [2.97094893]])"
      ]
     },
     "execution_count": 11,
     "metadata": {},
     "output_type": "execute_result"
    }
   ],
   "source": [
    "def linear_model(x,y,alpha,yuzhi,max_iter):\n",
    "    feature_num=x.shape[1]\n",
    "    theta=np.zeros(feature_num).reshape(-1,1)\n",
    "    for iter in range(max_iter):\n",
    "        theta=theta+x.T.dot(y-x.dot(theta))*alpha\n",
    "        loss=0.5*(y-x.dot(theta)).T.dot(y-x.dot(theta))\n",
    "        if loss<yuzhi:\n",
    "            print(loss)\n",
    "            break\n",
    "    return theta\n",
    "\n",
    "def predict(x,theta):\n",
    "    return x.dot(theta)\n",
    "    \n",
    "theta=linear_model(x,y,0.01,0.001,10000)\n",
    "predict(x,theta)\n",
    "    \n"
   ]
  },
  {
   "cell_type": "code",
   "execution_count": 12,
   "metadata": {},
   "outputs": [
    {
     "data": {
      "text/plain": [
       "array([[1],\n",
       "       [2],\n",
       "       [3]])"
      ]
     },
     "execution_count": 12,
     "metadata": {},
     "output_type": "execute_result"
    }
   ],
   "source": [
    "y"
   ]
  },
  {
   "cell_type": "code",
   "execution_count": null,
   "metadata": {},
   "outputs": [],
   "source": []
  }
 ],
 "metadata": {
  "kernelspec": {
   "display_name": "Python 3",
   "language": "python",
   "name": "python3"
  },
  "language_info": {
   "codemirror_mode": {
    "name": "ipython",
    "version": 3
   },
   "file_extension": ".py",
   "mimetype": "text/x-python",
   "name": "python",
   "nbconvert_exporter": "python",
   "pygments_lexer": "ipython3",
   "version": "3.7.3"
  }
 },
 "nbformat": 4,
 "nbformat_minor": 2
}
