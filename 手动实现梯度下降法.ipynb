{
 "cells": [
  {
   "cell_type": "code",
   "execution_count": 1,
   "metadata": {},
   "outputs": [],
   "source": [
    "import numpy as np"
   ]
  },
  {
   "cell_type": "code",
   "execution_count": 26,
   "metadata": {},
   "outputs": [
    {
     "name": "stdout",
     "output_type": "stream",
     "text": [
      "损失函数 [[14.]]\n"
     ]
    }
   ],
   "source": [
    "x=np.array([\n",
    "    [1,2,3],\n",
    "    [2.4,4.5,3.1],\n",
    "    [3.9,5.1,4.9]\n",
    "])\n",
    "y=np.array([\n",
    "    [1],\n",
    "    [2],\n",
    "    [3]\n",
    "])\n",
    "alpha=0.01\n",
    "theta=np.zeros(3).reshape(-1,1)\n",
    "loss=(y-x.dot(theta)).T.dot(y-x.dot(theta))\n",
    "print('损失函数',loss)\n"
   ]
  },
  {
   "cell_type": "code",
   "execution_count": 4,
   "metadata": {},
   "outputs": [
    {
     "name": "stdout",
     "output_type": "stream",
     "text": [
      "[[-0.36453752]]\n",
      "损失函数 [[0.15370786]]\n"
     ]
    }
   ],
   "source": [
    "#sgd\n",
    "np.random.shuffle(x)\n",
    "np.random.shuffle(y)\n",
    "for j in range(100):\n",
    "    for i in range(x.shape[0]):\n",
    "        x_sample=x[i,:].reshape(-1,1)\n",
    "        y_sample=y[i]\n",
    "        y_final=y_sample-x_sample.T.dot(theta)\n",
    "        theta=theta+alpha*y_final*x_sample\n",
    "print(y_final)\n",
    "loss=1/2*(y-x.dot(theta)).T.dot(y-x.dot(theta))\n",
    "print('损失函数',loss)\n"
   ]
  },
  {
   "cell_type": "code",
   "execution_count": 37,
   "metadata": {},
   "outputs": [
    {
     "name": "stdout",
     "output_type": "stream",
     "text": [
      "损失函数 [[0.73072434]]\n"
     ]
    }
   ],
   "source": [
    "#BGD\n",
    "sum=np.zeros(3).reshape(-1,1)\n",
    "np.random.shuffle(x)\n",
    "np.random.shuffle(y)\n",
    "for i in range(x.shape[0]):\n",
    "    x_sample=x[i,:].reshape(-1,1)\n",
    "    y_sample=y[i]\n",
    "    dif=(y_sample-x_sample.T.dot(theta))*x_sample\n",
    "#     print(dif)\n",
    "    sum+=dif\n",
    "theta=theta+alpha*sum\n",
    "loss=1/2*(y-x.dot(theta)).T.dot(y-x.dot(theta))\n",
    "print('损失函数',loss)\n",
    "\n",
    "\n",
    "\n",
    "\n",
    "\n",
    "\n"
   ]
  },
  {
   "cell_type": "code",
   "execution_count": null,
   "metadata": {},
   "outputs": [],
   "source": [
    "#MBGD 这里样本有点少就不做了\n",
    "sum=np.zeros(3).reshape(-1,1)\n",
    "np.random.shuffle(x)\n",
    "np.random.shuffle(y)\n"
   ]
  },
  {
   "cell_type": "code",
   "execution_count": null,
   "metadata": {},
   "outputs": [],
   "source": []
  },
  {
   "cell_type": "code",
   "execution_count": null,
   "metadata": {},
   "outputs": [],
   "source": []
  }
 ],
 "metadata": {
  "kernelspec": {
   "display_name": "Python 3",
   "language": "python",
   "name": "python3"
  },
  "language_info": {
   "codemirror_mode": {
    "name": "ipython",
    "version": 3
   },
   "file_extension": ".py",
   "mimetype": "text/x-python",
   "name": "python",
   "nbconvert_exporter": "python",
   "pygments_lexer": "ipython3",
   "version": "3.7.3"
  }
 },
 "nbformat": 4,
 "nbformat_minor": 2
}
