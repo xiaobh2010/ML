{
 "cells": [
  {
   "cell_type": "code",
   "execution_count": 2,
   "metadata": {},
   "outputs": [],
   "source": [
    "import numpy as np\n",
    "import matplotlib as mpl\n",
    "import matplotlib.pyplot as plt\n",
    "import pandas as pd\n",
    "import warnings\n",
    "import sklearn\n",
    "from sklearn.linear_model import LinearRegression,LassoCV,RidgeCV,ElasticNetCV\n",
    "from sklearn.preprocessing import PolynomialFeatures #数据预处理，标准化\n",
    "from sklearn.pipeline import Pipeline\n",
    "from sklearn.linear_model.coordinate_descent import ConvergenceWarning"
   ]
  },
  {
   "cell_type": "code",
   "execution_count": 3,
   "metadata": {},
   "outputs": [],
   "source": [
    "## 设置字符集，防止中文乱码\n",
    "mpl.rcParams['font.sans-serif']=[u'simHei']\n",
    "mpl.rcParams['axes.unicode_minus']=False\n",
    "## 拦截异常\n",
    "warnings.filterwarnings(action = 'ignore', category=ConvergenceWarning)"
   ]
  },
  {
   "cell_type": "code",
   "execution_count": 4,
   "metadata": {},
   "outputs": [
    {
     "data": {
      "text/plain": [
       "array([0.        , 0.66666667, 1.33333333, 2.        , 2.66666667,\n",
       "       3.33333333, 4.        , 4.66666667, 5.33333333, 6.        ])"
      ]
     },
     "execution_count": 4,
     "metadata": {},
     "output_type": "execute_result"
    }
   ],
   "source": [
    "np.linspace(0,6,10)"
   ]
  },
  {
   "cell_type": "code",
   "execution_count": 7,
   "metadata": {},
   "outputs": [],
   "source": [
    "#创建模拟数据\n",
    "np.random.seed(100)\n",
    "np.set_printoptions(linewidth=1000,suppress=True) \n",
    "N=10\n",
    "x=np.linspace(0,6,N)+np.random.randn(N)\n",
    "y=1.8*x**3+x**2-14*x-7+np.random.randn(N)\n",
    "x.shape=(-1,1)\n",
    "y.shape=(-1,1)\n",
    "\n",
    "\n"
   ]
  },
  {
   "cell_type": "code",
   "execution_count": 8,
   "metadata": {},
   "outputs": [],
   "source": [
    "models=[\n",
    "    Pipeline([\n",
    "        ('Poly',PolynomialFeatures(include_bias=True)),\n",
    "        ('Linear',LinearRegression(fit_intercept=False))\n",
    "    ]),\n",
    "    Pipeline([\n",
    "        ('Poly',PolynomialFeatures(include_bias=True)),\n",
    "        ('Linear',RidgeCV(alphas=np.logspace(-3,2,50),fit_intercept=False))\n",
    "    ]),\n",
    "    Pipeline([\n",
    "        ('Poly',PolynomialFeatures(include_bias=True)),\n",
    "        ('Linear',LassoCV(alphas=np.logspace(0,1,10),fit_intercept=False))\n",
    "    ]),\n",
    "    Pipeline([\n",
    "        ('Poly',PolynomialFeatures(include_bias=True)),\n",
    "        ('Linear',ElasticNetCV(alphas=np.logspace(0,1,10),l1_ratio=[.1,.5,.7,.9,.95,1],fit_intercept=False))\n",
    "    ]),\n",
    "]"
   ]
  },
  {
   "cell_type": "code",
   "execution_count": 13,
   "metadata": {},
   "outputs": [
    {
     "name": "stdout",
     "output_type": "stream",
     "text": [
      "1阶，系数为: [-44.14102611  40.05964256]\n",
      "5阶，系数为: [ -5.60899679 -14.80109301   0.75014858   2.11170671  -0.07724668   0.00566633]\n",
      "9阶，系数为: [-2465.58381316  6108.63817712 -5111.99333504   974.74974891  1078.89649478  -829.50277842   266.13230658   -45.71741587     4.1158274     -0.15281063]\n"
     ]
    },
    {
     "data": {
      "image/png": "[encoded data removed]",
      "text/plain": [
       "<Figure size 432x288 with 3 Axes>"
      ]
     },
     "metadata": {},
     "output_type": "display_data"
    }
   ],
   "source": [
    "#线性模型过拟合图形识别\n",
    "plt.figure(facecolor='w')\n",
    "degree=np.arange(1,N,4)\n",
    "dm=degree.size\n",
    "colors=[]\n",
    "for c in np.linspace(16711680,255,dm):\n",
    "    colors.append('#%06x'%int(c))\n",
    "\n",
    "model=models[0]\n",
    "for i,d in enumerate(degree):\n",
    "    plt.subplot(int(np.ceil(dm/2.0)),2,i+1)\n",
    "    plt.plot(x,y,'ro',ms=10,zorder=N)\n",
    "\n",
    "    #设置阶数\n",
    "    model.set_params(Poly__degree=d)\n",
    "    model.fit(x,y.ravel())\n",
    "\n",
    "    lin=model.get_params()['Linear']\n",
    "    output=u'%d阶，系数为:'%(d)\n",
    "    print(output,lin.coef_.ravel())\n",
    "\n",
    "    x_hat=np.linspace(x.min(),x.max(),num=100)\n",
    "    x_hat.shape=(-1,1)\n",
    "    y_hat=model.predict(x_hat)\n",
    "    s=model.score(x,y)\n",
    "    \n",
    "    z=N-1 if (d==5) else 0\n",
    "    label = u'%d阶, R2=%.3f' % (d,s)\n",
    "    plt.plot(x_hat, y_hat, color=colors[i], lw=2, alpha=0.75, label=label, zorder=z)\n",
    "    \n",
    "    plt.legend(loc = 'upper left')\n",
    "    plt.grid(True)\n",
    "    plt.xlabel('X', fontsize=16)\n",
    "    plt.ylabel('Y', fontsize=16)\n",
    "    \n",
    "plt.tight_layout(1, rect=(0,0,1,0.95))\n",
    "plt.suptitle(u'线性回归过拟合显示', fontsize=22)\n",
    "plt.show()\n",
    "\n"
   ]
  },
  {
   "cell_type": "code",
   "execution_count": null,
   "metadata": {},
   "outputs": [],
   "source": []
  }
 ],
 "metadata": {
  "kernelspec": {
   "display_name": "Python 3",
   "language": "python",
   "name": "python3"
  },
  "language_info": {
   "codemirror_mode": {
    "name": "ipython",
    "version": 3
   },
   "file_extension": ".py",
   "mimetype": "text/x-python",
   "name": "python",
   "nbconvert_exporter": "python",
   "pygments_lexer": "ipython3",
   "version": "3.7.3"
  }
 },
 "nbformat": 4,
 "nbformat_minor": 2
}
